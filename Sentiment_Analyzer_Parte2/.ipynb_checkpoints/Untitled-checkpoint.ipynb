{
 "cells": [
  {
   "cell_type": "code",
   "execution_count": null,
   "metadata": {},
   "outputs": [],
   "source": []
  },
  {
   "cell_type": "code",
   "execution_count": null,
   "metadata": {},
   "outputs": [],
   "source": []
  },
  {
   "cell_type": "code",
   "execution_count": 4,
   "metadata": {},
   "outputs": [],
   "source": [
    "tweetsToTraining = sc.textFile(\"tweetsToAnalysis.csv\")"
   ]
  },
  {
   "cell_type": "code",
   "execution_count": 5,
   "metadata": {},
   "outputs": [
    {
     "data": {
      "text/plain": [
       "['\"\",\"Sentiment\",\"created_at\",\"text\"',\n",
       " '\"0\",\"1\",\"Sun Aug 30 14:02:33 +0000 2020\",\"We\\'re looking for someone to join us this fall for an Epic #Fellowship to #research and #analyze data on the cuttin… https://t.co/InzgtflUOT\"',\n",
       " '\"1\",\"1\",\"Sun Aug 30 14:02:45 +0000 2020\",\"RT @jeremyphoward: Great intro article from @HamelHusain explaining what Docker is, why you might be interested in it, and how to get start…\"',\n",
       " '\"2\",\"0\",\"Sun Aug 30 14:02:50 +0000 2020\",\"Extended shutdowns are a policy choice, not a scientific choice.\"',\n",
       " '\"3\",\"0\",\"Sun Aug 30 14:02:50 +0000 2020\",\"RT @betterpakistan: The drop was due to no. of factors incl when it became obvious to Intl markets that PMLN will not be allowed by estt to…\"',\n",
       " '\"4\",\"1\",\"Sun Aug 30 14:02:50 +0000 2020\",\"RT @TheTerminal: Delivering data, news and analytics through innovative technology - in real time.\"',\n",
       " '\"5\",\"1\",\"Sun Aug 30 14:02:51 +0000 2020\",\"RT @lisalendway: Anyone teaching Intro Stat or Intro Data Science using #rstats #ggplot2  or #dplyr may find this package that only contain…\"',\n",
       " '\"6\",\"0\",\"Sun Aug 30 14:03:11 +0000 2020\",\"RT @DrEricDing: Ugh—The FDA has done it again—approved something without trial data to back it up. FDA just allowed the drug remdesivir to…\"',\n",
       " '\"7\",\"1\",\"Sun Aug 30 14:03:11 +0000 2020\",\"RT @DuckDuckGo: \"\"Female-body trackers have an agenda: They make money by showing their users ads, and they are increasingly interested in s…\"',\n",
       " '\"8\",\"1\",\"Sun Aug 30 14:03:14 +0000 2020\",\"RT @alentyler: Heyy 👋🏾 ,']"
      ]
     },
     "execution_count": 5,
     "metadata": {},
     "output_type": "execute_result"
    }
   ],
   "source": [
    "teste.take(10)"
   ]
  }
 ],
 "metadata": {
  "kernelspec": {
   "display_name": "Python 3",
   "language": "python",
   "name": "python3"
  },
  "language_info": {
   "codemirror_mode": {
    "name": "ipython",
    "version": 3
   },
   "file_extension": ".py",
   "mimetype": "text/x-python",
   "name": "python",
   "nbconvert_exporter": "python",
   "pygments_lexer": "ipython3",
   "version": "3.7.3"
  }
 },
 "nbformat": 4,
 "nbformat_minor": 4
}
